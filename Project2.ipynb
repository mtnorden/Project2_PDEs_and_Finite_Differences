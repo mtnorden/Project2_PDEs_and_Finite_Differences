{
 "cells": [
  {
   "cell_type": "code",
   "execution_count": null,
   "id": "5d98aa70",
   "metadata": {},
   "outputs": [],
   "source": []
  },
  {
   "cell_type": "markdown",
   "id": "bbf2d749",
   "metadata": {
    "vscode": {
     "languageId": "html"
    }
   },
   "source": [
    "Project 2: Solving Partial Differential Equations using Method of Finite Differences\n",
    "====================================================================================\n",
    "***By Robert Malcolm Norden***\n",
    "\n",
    "## The 1-D Heat Equation\n",
    "\n",
    "### Background\n",
    "\n",
    "The heat equation is a partial differential equation which attempts to model both the transient and steady state temperature profiles and gradients within systems. The equation is based off of fourier's law for heat flux listed below:\n",
    "\n",
    "$$ q = -k \\nabla T $$\n",
    "\n",
    "where q is heat flux, k is thermal conductivity, and T is temperature\n",
    "\n",
    "### The Problem Statement\n",
    "\n",
    "Say there is a metal bar uniform in k and of length L. Given a variety of boundary conditions how could the temperature profile of the bar vary over time.\n",
    "\n",
    "### Derviation\n",
    "\n",
    "Take an arbitrary slice of the bar of thickness $\\Delta x$. This slice will have some flux, $q$, flowing into this slice and out of this slice over some time, $\\Delta t$. We can write an expression for the change in internal energy over time:\n",
    "\n",
    "$$U\\rvert_{t+\\Delta t} - U\\rvert_{t} = (q\\rvert_{x} - q\\rvert_{x+\\Delta x})A\\Delta t$$\n",
    "\n",
    "Using the specific heat capacity the above expression can be simplified further:\n",
    "\n",
    "$$\\Delta m \\hat{C_p} (T\\rvert_{t+\\Delta t} - T\\rvert_{t}) = (q\\rvert_{x} - q\\rvert_{x+\\Delta x})A\\Delta t$$\n",
    "\n",
    "The change of mass through the control area can be simplified even further by using the constant cross sectional area of the bar\n",
    "\n",
    "$$A\\rho \\Delta x \\hat{C_p} (T\\rvert_{t+\\Delta t} - T\\rvert_{t}) = (q\\rvert_{x} - q\\rvert_{x+\\Delta x})A\\Delta t$$\n",
    "\n",
    "The cross sectional area can be divided through leaving this expression\n",
    "\n",
    "$$\\rho \\Delta x \\hat{C_p} (T\\rvert_{t+\\Delta t} - T\\rvert_{t}) = (q\\rvert_{x} - q\\rvert_{x+\\Delta x})\\Delta t$$\n",
    "\n",
    "This equation can be rearranged in a new form:\n",
    "\n",
    "$$\\rho \\hat{C_p} (\\frac{T\\rvert_{t+\\Delta t} - T\\rvert_{t}}{\\Delta t}) = -\\frac{(q\\rvert_{x+\\Delta x} - q\\rvert_{x})}{\\Delta x}$$\n",
    "\n",
    "This follows the familiar definition of a derivative:\n",
    "\n",
    "$$\\frac{df}{dx} = \\frac{f(x+\\Delta x)-f(x)}{\\Delta x}$$\n",
    "\n",
    "Applying this to the balance equation\n",
    "\n",
    "$$\\rho \\hat{C_p} \\frac{\\partial T}{\\partial t} = -\\frac{\\partial q}{\\partial x}$$\n",
    "\n",
    "When factoring in Fourier's Law\n",
    "\n",
    "$$ \\frac{\\partial T}{\\partial t} = \\frac{k}{\\rho \\hat{C_p}}\\frac{\\partial ^ 2 T}{\\partial x ^ 2}$$\n",
    "\n",
    "The quantity, $\\frac{k}{\\rho \\hat{C_p}}$, is also known as the thermal diffusivity, and is represented as $\\alpha$, leaving the final expression:\n",
    "\n",
    "$$ \\frac{\\partial T}{\\partial t} = \\alpha \\frac{\\partial ^ 2 T}{\\partial x ^ 2}$$"
   ]
  },
  {
   "cell_type": "code",
   "execution_count": null,
   "id": "e1a8c76e",
   "metadata": {},
   "outputs": [],
   "source": []
  },
  {
   "cell_type": "code",
   "execution_count": null,
   "id": "2358d92a",
   "metadata": {},
   "outputs": [],
   "source": []
  },
  {
   "cell_type": "markdown",
   "id": "f6277a06",
   "metadata": {},
   "source": []
  }
 ],
 "metadata": {
  "kernelspec": {
   "display_name": ".venv",
   "language": "python",
   "name": "python3"
  },
  "language_info": {
   "codemirror_mode": {
    "name": "ipython",
    "version": 3
   },
   "file_extension": ".py",
   "mimetype": "text/x-python",
   "name": "python",
   "nbconvert_exporter": "python",
   "pygments_lexer": "ipython3",
   "version": "3.13.3"
  }
 },
 "nbformat": 4,
 "nbformat_minor": 5
}
